{
 "cells": [
  {
   "cell_type": "markdown",
   "metadata": {},
   "source": [
    "# IMPORTS"
   ]
  },
  {
   "cell_type": "code",
   "execution_count": 3,
   "metadata": {},
   "outputs": [],
   "source": [
    "import zipfile\n",
    "import pandas\n"
   ]
  },
  {
   "cell_type": "code",
   "execution_count": null,
   "metadata": {},
   "outputs": [],
   "source": []
  },
  {
   "cell_type": "markdown",
   "metadata": {},
   "source": [
    "# OPEN ZIP AND LIST .JSON FILES"
   ]
  },
  {
   "cell_type": "code",
   "execution_count": null,
   "metadata": {},
   "outputs": [
    {
     "name": "stdout",
     "output_type": "stream",
     "text": [
      "['instagram-geodag91-2024-11-20-poQTe0ag/personal_information/personal_information/personal_information.json', 'instagram-geodag91-2024-11-20-poQTe0ag/connections/followers_and_following/following.json', 'instagram-geodag91-2024-11-20-poQTe0ag/connections/followers_and_following/followers_1.json', 'instagram-geodag91-2024-11-20-poQTe0ag/your_instagram_activity/messages/secret_conversations.json', 'instagram-geodag91-2024-11-20-poQTe0ag/your_instagram_activity/saved/saved_posts.json', 'instagram-geodag91-2024-11-20-poQTe0ag/ads_information/ads_and_topics/videos_watched.json', 'instagram-geodag91-2024-11-20-poQTe0ag/personal_information/personal_information/instagram_profile_information.json', 'instagram-geodag91-2024-11-20-poQTe0ag/your_instagram_activity/likes/liked_posts.json', 'instagram-geodag91-2024-11-20-poQTe0ag/security_and_login_information/login_and_profile_creation/profile_privacy_changes.json', 'instagram-geodag91-2024-11-20-poQTe0ag/personal_information/personal_information/professional_information.json', 'instagram-geodag91-2024-11-20-poQTe0ag/preferences/media_settings/use_cross-app_messaging.json', 'instagram-geodag91-2024-11-20-poQTe0ag/security_and_login_information/login_and_profile_creation/login_activity.json', 'instagram-geodag91-2024-11-20-poQTe0ag/your_instagram_activity/subscriptions/show_exclusive_story_promo_setting.json', 'instagram-geodag91-2024-11-20-poQTe0ag/preferences/media_settings/consents.json', 'instagram-geodag91-2024-11-20-poQTe0ag/ads_information/ads_and_topics/posts_viewed.json', 'instagram-geodag91-2024-11-20-poQTe0ag/your_instagram_activity/monetization/eligibility.json', 'instagram-geodag91-2024-11-20-poQTe0ag/logged_information/recent_searches/profile_searches.json', 'instagram-geodag91-2024-11-20-poQTe0ag/your_instagram_activity/content/profile_photos.json', 'instagram-geodag91-2024-11-20-poQTe0ag/personal_information/personal_information/profile_changes.json', 'instagram-geodag91-2024-11-20-poQTe0ag/your_instagram_activity/subscriptions/your_muted_story_teaser_creators.json', 'instagram-geodag91-2024-11-20-poQTe0ag/security_and_login_information/login_and_profile_creation/instagram_signup_details.json', 'instagram-geodag91-2024-11-20-poQTe0ag/security_and_login_information/login_and_profile_creation/last_known_location.json', 'instagram-geodag91-2024-11-20-poQTe0ag/preferences/media_settings/comments_allowed_from.json']\n"
     ]
    }
   ],
   "source": [
    "# Path to your ZIP file\n",
    "zip_path = \"/mnt/c/Users/arodilla/OneDrive - Universitat de Barcelona/BSC/WHAT-IF/DATA TAKEOUT/instagram-geodag91-2024-11-20-poQTe0ag-20250313T102059Z-001.zip\"\n",
    "\n",
    "# Open the ZIP file and list all JSON files\n",
    "with zipfile.ZipFile(zip_path, 'r') as z:\n",
    "    json_files = [file for file in z.namelist() if file.endswith('.json')]"
   ]
  },
  {
   "cell_type": "code",
   "execution_count": 8,
   "metadata": {},
   "outputs": [],
   "source": [
    "import pandas as pd\n",
    "import requests\n",
    "from io import StringIO\n",
    "\n",
    "def load_csv_from_github(url):\n",
    "    response = requests.get(url)\n",
    "    response.raise_for_status()  # Raise an error for bad responses (e.g., 404)\n",
    "    csv_data = response.text\n",
    "    df = pd.read_csv(StringIO(csv_data))\n",
    "    return df\n",
    "\n",
    "url = \"https://raw.githubusercontent.com/what-if-horizon/what-if-data-donation/refs/heads/master/json_structure_donations/processed_json_structure_donations/Instagram/Final/Merged_structures_IG.csv\"\n",
    "schema_df = load_csv_from_github(url)\n",
    "\n",
    "# Clean column names\n",
    "schema_df.columns = schema_df.columns.str.replace(r'\\(.*\\)', '', regex=True)\n",
    "schema_df.columns = schema_df.columns.str.strip()"
   ]
  },
  {
   "cell_type": "code",
   "execution_count": 10,
   "metadata": {},
   "outputs": [
    {
     "name": "stdout",
     "output_type": "stream",
     "text": [
      "Index(['variable', 'value', 'path_1', 'path_2', 'path_3', 'path_4',\n",
      "       'json_name', 'json_1', 'json_2', 'data_type'],\n",
      "      dtype='object')\n"
     ]
    }
   ],
   "source": [
    "print(schema_df.columns.str.strip())"
   ]
  }
 ],
 "metadata": {
  "kernelspec": {
   "display_name": "dtwienv",
   "language": "python",
   "name": "python3"
  },
  "language_info": {
   "codemirror_mode": {
    "name": "ipython",
    "version": 3
   },
   "file_extension": ".py",
   "mimetype": "text/x-python",
   "name": "python",
   "nbconvert_exporter": "python",
   "pygments_lexer": "ipython3",
   "version": "3.11.3"
  }
 },
 "nbformat": 4,
 "nbformat_minor": 2
}
