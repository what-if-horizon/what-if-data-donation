{
 "cells": [
  {
   "cell_type": "code",
   "execution_count": 1,
   "metadata": {},
   "outputs": [],
   "source": [
    "# importing the required modules \n",
    "import pandas as pd \n",
    "import os\n",
    "from pathlib import Path  \n",
    "import zipfile\n",
    "import gc\n"
   ]
  },
  {
   "cell_type": "code",
   "execution_count": 2,
   "metadata": {},
   "outputs": [],
   "source": [
    "main_path = \"/home/rvissche/Nextcloud/What-If/what-if-data-donation/what-if-data-donation/structure_donations/Processed_structure_donations/Youtube/\"\n",
    "input_directory = Path(f'{main_path}Raw')\n",
    "output_directory = Path(f'{main_path}Column_names_input')\n",
    "\n",
    "for file in output_directory.iterdir():\n",
    "   if file.is_file():\n",
    "      file.unlink() \n"
   ]
  },
  {
   "cell_type": "code",
   "execution_count": 3,
   "metadata": {},
   "outputs": [],
   "source": [
    "def extract_csv(data):\n",
    "\n",
    "    df_column_names = pd.DataFrame()\n",
    "    df_column_names['File_name'] = ''\n",
    "    df_column_names['Column_names'] = ''\n",
    "    \n",
    "\n",
    "    with zipfile.ZipFile(data, 'r') as z:\n",
    "        # List all files in the zip\n",
    "        all_files = z.namelist()\n",
    " \n",
    "        \n",
    "        # Filter CSV files\n",
    "        csv_files = [f for f in all_files if f.endswith('.csv')]\n",
    "\n",
    "        for filename in csv_files:\n",
    "            file_name = os.path.basename(filename)\n",
    "            \n",
    "            with z.open(filename) as f:\n",
    "                # Try utf-8, fallback if needed\n",
    "                try:\n",
    "                    df = pd.read_csv(f)\n",
    "                except UnicodeDecodeError:\n",
    "                    f.seek(0)\n",
    "                    df = pd.read_csv(f, encoding='latin1')\n",
    "            \n",
    "            column_names = df.columns\n",
    "\n",
    "            # Add a row missing one column\n",
    "            new_row = {'File_name': file_name, \"Column_names\": column_names}  \n",
    "\n",
    "            df_column_names = pd.concat([df_column_names, pd.DataFrame([new_row])], ignore_index=True)\n",
    "\n",
    "        df_column_names = df_column_names.explode(\"Column_names\")\n",
    "\n",
    "\n",
    "\n",
    "    return df_column_names"
   ]
  },
  {
   "cell_type": "code",
   "execution_count": 4,
   "metadata": {},
   "outputs": [],
   "source": [
    "def save_structure(df_column_names, zip_name):\n",
    "\n",
    "    \n",
    "    df_column_names.to_csv(f\"{output_directory}/YT_structure_{zip_name}.csv\", index=False)\n",
    "\n",
    "    return df_column_names"
   ]
  },
  {
   "cell_type": "code",
   "execution_count": 5,
   "metadata": {},
   "outputs": [],
   "source": [
    "def structure_donations(data):\n",
    "    zip_name = Path(data).stem \n",
    "    df_column_names = extract_csv(data)\n",
    "    print('FINSIH: extract_csv()')\n",
    "    df = save_structure(df_column_names, zip_name)\n",
    "    print('FINSIH: save_structure()')\n",
    "    print('FINSIH:', zip_name)\n",
    "    \n",
    "    return df\n",
    "     \n",
    "\n",
    "    "
   ]
  },
  {
   "cell_type": "code",
   "execution_count": 6,
   "metadata": {},
   "outputs": [
    {
     "name": "stdout",
     "output_type": "stream",
     "text": [
      "FILE NAME: youtube_takeout.zip\n",
      "FINSIH: extract_csv()\n",
      "FINSIH: save_structure()\n",
      "FINSIH: youtube_takeout\n",
      "FILE NAME: youtube_takeout_es.zip\n",
      "FINSIH: extract_csv()\n",
      "FINSIH: save_structure()\n",
      "FINSIH: youtube_takeout_es\n",
      "FILE NAME: YouTube_additional_data.zip\n",
      "FINSIH: extract_csv()\n",
      "FINSIH: save_structure()\n",
      "FINSIH: YouTube_additional_data\n",
      "FILE NAME: youtube_takeout_dutch.zip\n",
      "FINSIH: extract_csv()\n",
      "FINSIH: save_structure()\n",
      "FINSIH: youtube_takeout_dutch\n",
      "FILE NAME: youtube_takeout-20250314T090052Z-001.zip\n",
      "FINSIH: extract_csv()\n",
      "FINSIH: save_structure()\n",
      "FINSIH: youtube_takeout-20250314T090052Z-001\n",
      "FILE NAME: youtube_takeout_ro.zip\n",
      "FINSIH: extract_csv()\n",
      "FINSIH: save_structure()\n",
      "FINSIH: youtube_takeout_ro\n",
      "FILE NAME: youtube_takeout_li.zip\n",
      "FINSIH: extract_csv()\n",
      "FINSIH: save_structure()\n",
      "FINSIH: youtube_takeout_li\n"
     ]
    }
   ],
   "source": [
    "for file in input_directory.iterdir():  \n",
    "   if zipfile.is_zipfile(file):  \n",
    "        print(\"FILE NAME:\", file.name)\n",
    "        result = structure_donations(file)\n",
    "        del result\n",
    "        gc.collect()"
   ]
  }
 ],
 "metadata": {
  "kernelspec": {
   "display_name": "data-donations",
   "language": "python",
   "name": "python3"
  },
  "language_info": {
   "codemirror_mode": {
    "name": "ipython",
    "version": 3
   },
   "file_extension": ".py",
   "mimetype": "text/x-python",
   "name": "python",
   "nbconvert_exporter": "python",
   "pygments_lexer": "ipython3",
   "version": "3.13.1"
  }
 },
 "nbformat": 4,
 "nbformat_minor": 2
}
