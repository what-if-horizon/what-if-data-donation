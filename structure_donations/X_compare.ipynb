{
 "cells": [
  {
   "cell_type": "code",
   "execution_count": 5,
   "metadata": {},
   "outputs": [],
   "source": [
    "import pandas as pd\n",
    "import json\n",
    "\n",
    "main_path = \"/home/rvissche/Nextcloud/What-If/what-if-data-donation/what-if-data-donation/structure_donations/\"\n",
    "\n",
    "\n",
    "new = pd.read_csv(f\"{main_path}Processed_structure_donations/Twitter/Final/X_Merged_structures.csv\")\n",
    "old = pd.read_csv(f\"{main_path}Annotated_schema_df/X_merged_structure_annotated.csv\")\n",
    "\n",
    "\n",
    "\n",
    "old['path'] = old['path'].str.replace('(', '[', regex=False).str.replace(')', ']', regex=False)\n",
    "\n",
    "\n",
    "\n",
    "\n",
    "\n"
   ]
  },
  {
   "cell_type": "code",
   "execution_count": 6,
   "metadata": {},
   "outputs": [],
   "source": [
    "new2 = new\n",
    "\n",
    "new['id2'] = new['id']\n",
    "\n",
    "\n",
    "\n",
    "new = new[['id', 'id2']]\n",
    "\n",
    "old = old[['id', 'keepID']]\n",
    "\n",
    "\n",
    "diff_df = pd.merge(old, new, on = 'id', how = 'left')\n",
    "diff_2 = pd.merge(old, new, on = 'id', how = 'left')\n",
    "\n",
    "mask = pd.notna(diff_df['keepID'])\n",
    "diff_df = diff_df[mask]"
   ]
  },
  {
   "cell_type": "code",
   "execution_count": 7,
   "metadata": {},
   "outputs": [
    {
     "name": "stdout",
     "output_type": "stream",
     "text": [
      "                              id                       keepID  \\\n",
      "4        manifest:generationDate      manifest:generationDate   \n",
      "274   account-label:accountLabel   account-label:accountLabel   \n",
      "275           account-suspension           account-suspension   \n",
      "280            account:accountId            account:accountId   \n",
      "281            account:createdAt            account:createdAt   \n",
      "..                           ...                          ...   \n",
      "573         lists-subscribed:url         lists-subscribed:url   \n",
      "574  personalization:advertisers  personalization:advertisers   \n",
      "575  personalization:advertisers  personalization:advertisers   \n",
      "576   saved-search:savedSearchId   saved-search:savedSearchId   \n",
      "577           saved-search:query           saved-search:query   \n",
      "\n",
      "                             id2  \n",
      "4        manifest:generationDate  \n",
      "274                          NaN  \n",
      "275           account-suspension  \n",
      "280            account:accountId  \n",
      "281            account:createdAt  \n",
      "..                           ...  \n",
      "573         lists-subscribed:url  \n",
      "574  personalization:advertisers  \n",
      "575  personalization:advertisers  \n",
      "576   saved-search:savedSearchId  \n",
      "577           saved-search:query  \n",
      "\n",
      "[120 rows x 3 columns]\n"
     ]
    }
   ],
   "source": [
    "print(diff_df)"
   ]
  },
  {
   "cell_type": "code",
   "execution_count": 8,
   "metadata": {},
   "outputs": [
    {
     "name": "stdout",
     "output_type": "stream",
     "text": [
      "4\n",
      "{'verified-organization:verifiedOrganization', 'account-label:accountLabel', 'periscope-ban-information:periscopeBanInformation', 'expanded-profile:expandedProfile'}\n",
      "{'direct-messages:urls', 'tweets:user_mentions', 'direct-messages-group:urls', 'direct-messages-group:mediaUrls', 'direct-messages-group:editHistory', 'direct-messages:reactions', 'personalization:partnerInterests', 'personalization:doNotReachAdvertisers', 'direct-messages-group:reactions', 'key-registry:deRegisteredDeviceMetadataList', 'personalization:catalogAudienceAdvertisers', 'tweets:urls', 'direct-messages:editHistory', 'ads-revenue-sharing:payoutHistory', 'personalization:locationHistory', 'tweets:hashtags', 'tweets:symbols'}\n",
      "17\n"
     ]
    }
   ],
   "source": [
    "newList = set(new['id'].dropna())\n",
    "oldList = set(old['id'].dropna())\n",
    "\n",
    "diff = oldList - newList\n",
    "diff2 = newList - oldList\n",
    "print(len(diff))\n",
    "print(diff)\n",
    "\n",
    "print(diff2)\n",
    "print(len(diff2))\n"
   ]
  }
 ],
 "metadata": {
  "kernelspec": {
   "display_name": "data-donations",
   "language": "python",
   "name": "python3"
  },
  "language_info": {
   "codemirror_mode": {
    "name": "ipython",
    "version": 3
   },
   "file_extension": ".py",
   "mimetype": "text/x-python",
   "name": "python",
   "nbconvert_exporter": "python",
   "pygments_lexer": "ipython3",
   "version": "3.13.1"
  }
 },
 "nbformat": 4,
 "nbformat_minor": 2
}
