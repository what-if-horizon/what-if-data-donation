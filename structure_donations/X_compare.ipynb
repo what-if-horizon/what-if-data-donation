{
 "cells": [
  {
   "cell_type": "code",
   "execution_count": 36,
   "metadata": {},
   "outputs": [],
   "source": [
    "import pandas as pd\n",
    "import json\n",
    "\n",
    "main_path = \"/home/rvissche/Nextcloud/What-If/what-if-data-donation/what-if-data-donation/structure_donations/\"\n",
    "\n",
    "\n",
    "new = pd.read_csv(f\"{main_path}Processed_structure_donations/Instagram/Final/Merged_structures_IG.csv\")\n",
    "old = pd.read_csv(f\"{main_path}Annotated_schema_df/Merged_structures_IG_annotated .csv\")\n",
    "\n",
    "\n",
    "\n",
    "old['path'] = old['path'].str.replace('(', '[', regex=False).str.replace(')', ']', regex=False)\n",
    "\n",
    "\n",
    "\n",
    "\n",
    "\n"
   ]
  },
  {
   "cell_type": "code",
   "execution_count": 37,
   "metadata": {},
   "outputs": [],
   "source": [
    "new = new[['id', 'path']]\n",
    "new['id2'] = new['id']\n",
    "new['path2'] = new['path']\n",
    "old = old[['id', 'path']]\n",
    "\n",
    "\n",
    "diff_df = pd.merge(old, new, on = 'id', how = 'outer')"
   ]
  },
  {
   "cell_type": "code",
   "execution_count": 38,
   "metadata": {},
   "outputs": [
    {
     "name": "stdout",
     "output_type": "stream",
     "text": [
      "                                                 id  \\\n",
      "0                     ads_about_meta:ent_field_name   \n",
      "1                           ads_about_meta:ent_name   \n",
      "2                               ads_about_meta:fbid   \n",
      "3                              ads_about_meta:label   \n",
      "4        ads_about_meta:label_values:ent_field_name   \n",
      "...                                             ...   \n",
      "1509  your_topics:topics_your_topics:media_map_data   \n",
      "1510       your_topics:topics_your_topics:timestamp   \n",
      "1511           your_topics:topics_your_topics:title   \n",
      "1512           your_topics:topics_your_topics:value   \n",
      "1513                              your_topics:value   \n",
      "\n",
      "                                                 path_x  \\\n",
      "0                                                   NaN   \n",
      "1                                         ['ent_name',]   \n",
      "2                                             ['fbid',]   \n",
      "3                                                   NaN   \n",
      "4                    ['label_values', 'ent_field_name']   \n",
      "...                                                 ...   \n",
      "1509           ['topics_your_topics', 'media_map_data']   \n",
      "1510  ['topics_your_topics', 'string_map_data', 'Nam...   \n",
      "1511                    ['topics_your_topics', 'title']   \n",
      "1512  ['topics_your_topics', 'string_map_data', 'Nam...   \n",
      "1513                                                NaN   \n",
      "\n",
      "                                                 path_y  \\\n",
      "0                    ['label_values', 'ent_field_name']   \n",
      "1                                          ['ent_name']   \n",
      "2                                              ['fbid']   \n",
      "3                             ['label_values', 'label']   \n",
      "4                                                   NaN   \n",
      "...                                                 ...   \n",
      "1509                                                NaN   \n",
      "1510                                                NaN   \n",
      "1511                                                NaN   \n",
      "1512                                                NaN   \n",
      "1513  ['topics_your_topics', 'string_map_data', 'Nam...   \n",
      "\n",
      "                                id2  \\\n",
      "0     ads_about_meta:ent_field_name   \n",
      "1           ads_about_meta:ent_name   \n",
      "2               ads_about_meta:fbid   \n",
      "3              ads_about_meta:label   \n",
      "4                               NaN   \n",
      "...                             ...   \n",
      "1509                            NaN   \n",
      "1510                            NaN   \n",
      "1511                            NaN   \n",
      "1512                            NaN   \n",
      "1513              your_topics:value   \n",
      "\n",
      "                                                  path2  \n",
      "0                    ['label_values', 'ent_field_name']  \n",
      "1                                          ['ent_name']  \n",
      "2                                              ['fbid']  \n",
      "3                             ['label_values', 'label']  \n",
      "4                                                   NaN  \n",
      "...                                                 ...  \n",
      "1509                                                NaN  \n",
      "1510                                                NaN  \n",
      "1511                                                NaN  \n",
      "1512                                                NaN  \n",
      "1513  ['topics_your_topics', 'string_map_data', 'Nam...  \n",
      "\n",
      "[1514 rows x 5 columns]\n"
     ]
    }
   ],
   "source": [
    "print(diff_df)"
   ]
  },
  {
   "cell_type": "code",
   "execution_count": 39,
   "metadata": {},
   "outputs": [
    {
     "name": "stdout",
     "output_type": "stream",
     "text": [
      "39\n",
      "{\"['profile_business', 'media_map_data']\", \"['subscriptions_show_story_teaser_setting', 'media_map_data']\", \"['inferred_data_primary_location', 'media_map_data']\", \"['account_history_account_privacy_history', 'media_map_data']\", \"['profile_note_interactions', 'media_map_data']\", \"['settings_allow_comments_from', 'media_map_data']\", \"['account_history_login_history', 'media_map_data']\", \"['label_values', 'vec', 'label']\", \"['impressions_history_recs_hidden_authors', 'media_map_data']\", \"['monetization_eligibility', 'media_map_data']\", \"['contacts_contact_info', 'media_map_data']\", \"['subscriptions_muted_story_teaser_creators', 'media_map_data']\", \"['thread_path',]\", \"['fbid',]\", \"['profile_user', 'media_map_data']\", \"['profile_profile_change', 'media_map_data']\", \"['label_values', 'vec', 'timestamp_value']\", \"['topics_your_topics', 'media_map_data']\", \"['profile_business', 'string_map_data']\", \"['account_history_password_change_history', 'media_map_data']\", \"['account_history_account_active_status_changes', 'media_map_data']\", \"['searches_user', 'media_map_data']\", \"['ent_name',]\", \"['devices_devices', 'media_map_data']\", \"['account_history_imprecise_last_known_location', 'media_map_data']\", \"['title',]\", \"['media',]\", \"['label_values',]\", \"['timestamp',]\", \"['media_list_data',]\", \"['is_pending',]\", \"['magic_words',]\", \"['devices_camera', 'media_map_data']\", \"['is_still_participant',]\", \"['searches_keyword', 'media_map_data']\", \"['account_history_registration_info', 'media_map_data']\", \"['profile_account_insights', 'media_map_data']\", \"['settings_upgraded_to_cross_app_messaging', 'media_map_data']\", \"['creation_timestamp',]\"}\n",
      "{\"['saved_saved_collections', 'string_map_data', 'Name', 'href']\", \"['label_values', 'dict']\", \"['ig_stories', 'media_metadata', 'photo_metadata', 'exif_data', 'latitude']\", \"['messages', 'call_duration']\", \"['ig_stories', 'media_metadata', 'photo_metadata', 'exif_data', 'scene_capture_type']\", \"['ig_stories', 'media_metadata', 'photo_metadata', 'exif_data', 'scene_type']\", \"['ig_stories', 'media_metadata', 'video_metadata', 'exif_data', 'longitude']\", \"['messages', 'audio_files', 'creation_timestamp']\", \"['ig_stories', 'media_metadata', 'video_metadata', 'exif_data', 'latitude']\", \"['media_list_data']\", \"['ig_stories', 'media_metadata', 'photo_metadata', 'exif_data', 'device_id']\", \"['ig_stories', 'media_metadata', 'photo_metadata', 'exif_data', 'date_time_original']\", \"['ent_name']\", \"['media']\", \"['messages', 'audio_files', 'uri']\", \"['title']\", \"['is_still_participant']\", \"['messages', 'share', 'profile_share_name']\", \"['fbid']\", \"['timestamp']\", \"['ig_stories', 'media_metadata', 'photo_metadata', 'exif_data', 'date_time_digitized']\", \"['is_pending']\", \"['ig_stories', 'media_metadata', 'photo_metadata', 'exif_data', 'camera_position']\", \"['ig_stories', 'media_metadata', 'photo_metadata', 'exif_data', 'source_type']\", \"['creation_timestamp']\", \"['ig_stories', 'media_metadata', 'photo_metadata', 'exif_data', 'longitude']\", \"['ig_stories', 'media_metadata', 'video_metadata', 'exif_data', 'scene_capture_type']\", \"['messages', 'share', 'profile_share_username']\", \"['thread_path']\", \"['magic_words']\", \"['saved_saved_collections', 'string_map_data', 'Added Time', 'timestamp']\", \"['label_values', 'vec', 'dict', 'label']\", \"['label_values', 'vec']\", \"['label_values', 'vec', 'dict', 'timestamp_value']\"}\n",
      "34\n"
     ]
    }
   ],
   "source": [
    "newList = set(new['path'].dropna())\n",
    "oldList = set(old['path'].dropna())\n",
    "\n",
    "diff = oldList - newList\n",
    "diff2 = newList - oldList\n",
    "print(len(diff))\n",
    "print(diff)\n",
    "\n",
    "print(diff2)\n",
    "print(len(diff2))\n"
   ]
  }
 ],
 "metadata": {
  "kernelspec": {
   "display_name": "data-donations",
   "language": "python",
   "name": "python3"
  },
  "language_info": {
   "codemirror_mode": {
    "name": "ipython",
    "version": 3
   },
   "file_extension": ".py",
   "mimetype": "text/x-python",
   "name": "python",
   "nbconvert_exporter": "python",
   "pygments_lexer": "ipython3",
   "version": "3.13.1"
  }
 },
 "nbformat": 4,
 "nbformat_minor": 2
}
