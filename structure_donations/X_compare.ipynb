{
 "cells": [
  {
   "cell_type": "code",
   "execution_count": 37,
   "metadata": {},
   "outputs": [],
   "source": [
    "import pandas as pd\n",
    "import json\n",
    "\n",
    "main_path = \"/home/rvissche/Nextcloud/What-If/what-if-data-donation/what-if-data-donation/structure_donations/\"\n",
    "\n",
    "\n",
    "new = pd.read_csv(f\"{main_path}Processed_structure_donations/Twitter/Final/X_Merged_structures.csv\")\n",
    "old = pd.read_csv(f\"{main_path}Annotated_schema_df/X_merged_structure_annotated.csv\")\n",
    "\n",
    "\n",
    "\n",
    "old['path'] = old['path'].str.replace('(', '[', regex=False).str.replace(')', ']', regex=False)\n",
    "\n",
    "\n",
    "\n",
    "\n",
    "\n"
   ]
  },
  {
   "cell_type": "code",
   "execution_count": 38,
   "metadata": {},
   "outputs": [],
   "source": [
    "new = new[['id', 'path']]\n",
    "new['id2'] = new['id']\n",
    "new['path2'] = new['path']\n",
    "old = old[['id', 'path', 'keepID']]\n",
    "\n",
    "\n",
    "diff_df = pd.merge(old, new, on = ['id', 'path'], how = 'outer')\n",
    "\n",
    "mask = pd.notna(diff_df['keepID'])\n",
    "diff_df = diff_df[mask]"
   ]
  },
  {
   "cell_type": "code",
   "execution_count": 39,
   "metadata": {},
   "outputs": [
    {
     "name": "stdout",
     "output_type": "stream",
     "text": [
      "                                             id  \\\n",
      "2                    account-label:accountLabel   \n",
      "3                            account-suspension   \n",
      "7                             account:accountId   \n",
      "8                             account:createdAt   \n",
      "14     ad-engagements:advertiserInfo:screenName   \n",
      "..                                          ...   \n",
      "651                 tweets:user_mentions:id_str   \n",
      "652                tweets:user_mentions:indices   \n",
      "655                            user-link-clicks   \n",
      "657  verified-organization:verifiedOrganization   \n",
      "659                           verified:verified   \n",
      "\n",
      "                                                  path  \\\n",
      "2                                    ['accountLabel',]   \n",
      "3                                         ['No data',]   \n",
      "7                             ['account', 'accountId']   \n",
      "8                             ['account', 'createdAt']   \n",
      "14   ['ad', 'adsUserData', 'adEngagements', 'engage...   \n",
      "..                                                 ...   \n",
      "651   ['tweet', 'entities', 'user_mentions', 'id_str']   \n",
      "652  ['tweet', 'entities', 'user_mentions', 'indices']   \n",
      "655                                       ['No data',]   \n",
      "657                          ['verifiedOrganization',]   \n",
      "659                           ['verified', 'verified']   \n",
      "\n",
      "                                         keepID  \\\n",
      "2                    account-label:accountLabel   \n",
      "3                            account-suspension   \n",
      "7                             account:accountId   \n",
      "8                             account:createdAt   \n",
      "14     ad-engagements:advertiserInfo:screenName   \n",
      "..                                          ...   \n",
      "651                 tweets:user_mentions:id_str   \n",
      "652                tweets:user_mentions:indices   \n",
      "655                            user-link-clicks   \n",
      "657  verified-organization:verifiedOrganization   \n",
      "659                           verified:verified   \n",
      "\n",
      "                                          id2  \\\n",
      "2                                         NaN   \n",
      "3                                         NaN   \n",
      "7                           account:accountId   \n",
      "8                           account:createdAt   \n",
      "14   ad-engagements:advertiserInfo:screenName   \n",
      "..                                        ...   \n",
      "651               tweets:user_mentions:id_str   \n",
      "652              tweets:user_mentions:indices   \n",
      "655                                       NaN   \n",
      "657                                       NaN   \n",
      "659                         verified:verified   \n",
      "\n",
      "                                                 path2  \n",
      "2                                                  NaN  \n",
      "3                                                  NaN  \n",
      "7                             ['account', 'accountId']  \n",
      "8                             ['account', 'createdAt']  \n",
      "14   ['ad', 'adsUserData', 'adEngagements', 'engage...  \n",
      "..                                                 ...  \n",
      "651   ['tweet', 'entities', 'user_mentions', 'id_str']  \n",
      "652  ['tweet', 'entities', 'user_mentions', 'indices']  \n",
      "655                                                NaN  \n",
      "657                                                NaN  \n",
      "659                           ['verified', 'verified']  \n",
      "\n",
      "[120 rows x 5 columns]\n"
     ]
    }
   ],
   "source": [
    "print(diff_df)"
   ]
  },
  {
   "cell_type": "code",
   "execution_count": 40,
   "metadata": {},
   "outputs": [
    {
     "name": "stdout",
     "output_type": "stream",
     "text": [
      "5\n",
      "{\"['accountLabel',]\", \"['periscopeBanInformation',]\", \"['No data',]\", \"['verifiedOrganization',]\", \"['expandedProfile',]\"}\n",
      "{\"['dmConversation', 'messages', 'messageCreate', 'editHistory']\", \"['adsRevenueSharing', 'payoutHistory']\", \"['tweet', 'entities', 'user_mentions']\", \"['tweet', 'entities', 'symbols']\", \"['dmConversation', 'messages', 'messageCreate', 'urls']\", \"['p13nData', 'locationHistory']\", \"['p13nData', 'interests', 'partnerInterests']\", \"['tweet', 'entities', 'hashtags']\", \"['dmConversation', 'messages', 'messageCreate', 'reactions']\", \"['keyRegistryData', 'deregisteredDevices', 'deRegisteredDeviceMetadataList']\", \"['tweet', 'entities', 'urls']\", \"['p13nData', 'interests', 'audienceAndAdvertisers', 'doNotReachAdvertisers']\", \"['p13nData', 'interests', 'audienceAndAdvertisers', 'catalogAudienceAdvertisers']\"}\n",
      "13\n"
     ]
    }
   ],
   "source": [
    "newList = set(new['path'].dropna())\n",
    "oldList = set(old['path'].dropna())\n",
    "\n",
    "diff = oldList - newList\n",
    "diff2 = newList - oldList\n",
    "print(len(diff))\n",
    "print(diff)\n",
    "\n",
    "print(diff2)\n",
    "print(len(diff2))\n"
   ]
  }
 ],
 "metadata": {
  "kernelspec": {
   "display_name": "data-donations",
   "language": "python",
   "name": "python3"
  },
  "language_info": {
   "codemirror_mode": {
    "name": "ipython",
    "version": 3
   },
   "file_extension": ".py",
   "mimetype": "text/x-python",
   "name": "python",
   "nbconvert_exporter": "python",
   "pygments_lexer": "ipython3",
   "version": "3.13.1"
  }
 },
 "nbformat": 4,
 "nbformat_minor": 2
}
