{
 "cells": [
  {
   "cell_type": "code",
   "execution_count": null,
   "id": "c716b6a8",
   "metadata": {},
   "outputs": [],
   "source": [
    "import json\n",
    "import pandas as pd\n",
    "\n",
    "\n",
    "#Update paths\n",
    "input_path = 'insert path'\n",
    "output_path = 'structure_donations/Processed_structure_donations/platform/input'\n",
    "\n",
    "\n",
    "for file in input_path.iterdir():  \n",
    "    if file.is_file(): \n",
    "        print(file.name)\n",
    "        with open(file, 'r') as file:\n",
    "            data = json.load(file)\n",
    "\n",
    "    data = data[-1].get('placeholder')[0].get('Placeholder for research purpose')\n",
    "\n",
    "    with open(output_path, \"w\") as f:\n",
    "        f.write(data)\n"
   ]
  }
 ],
 "metadata": {
  "language_info": {
   "name": "python"
  }
 },
 "nbformat": 4,
 "nbformat_minor": 5
}
