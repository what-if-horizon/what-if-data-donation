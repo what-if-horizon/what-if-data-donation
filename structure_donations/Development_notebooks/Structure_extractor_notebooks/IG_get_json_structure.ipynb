{
 "cells": [
  {
   "cell_type": "code",
   "execution_count": 3,
   "metadata": {},
   "outputs": [],
   "source": [
    "import zipfile\n",
    "import json\n",
    "from pathlib import Path "
   ]
  },
  {
   "cell_type": "code",
   "execution_count": 4,
   "metadata": {},
   "outputs": [],
   "source": [
    "##############################################################################\n",
    "# Infer the data type  \n",
    "# -- Change the value into a string stating the data type   \n",
    "# -- If the value is None, None is returned\n",
    "# -- If the data type is not one of the data types specified in this function,\n",
    "#       'unknown is returned                                      \n",
    "###############################################################################\n",
    "\n",
    "def infer_placeholder(value):\n",
    "    if isinstance(value, str):\n",
    "        return \"string\"\n",
    "    elif isinstance(value, bool):\n",
    "        return \"boolean\"\n",
    "    elif isinstance(value, int) or isinstance(value, float):\n",
    "        return \"number\"\n",
    "    elif isinstance(value, list):\n",
    "        return [\"array\"]\n",
    "    elif isinstance(value, dict):\n",
    "        return {k: infer_placeholder(v) for k, v in value.items()}\n",
    "    elif value is None:\n",
    "        return None\n",
    "    else:\n",
    "        return \"unknown\"\n",
    "\n",
    "############################################################################################\n",
    "# Function to iterate over all dictionaries and list to apply the infer_placeholder function \n",
    "#############################################################################################\n",
    "\n",
    "def simplify_json_structure(data):\n",
    "    # If the data is a dictionary...\n",
    "    if isinstance(data, dict):\n",
    "        # ...create a new dictionary where:\n",
    "        # - each key is kept the same\n",
    "        # - each value is simplified by calling this function recursively\n",
    "        return {k: simplify_json_structure(v) for k, v in data.items()}\n",
    "\n",
    "    # If the data is a list...\n",
    "    \n",
    "    elif isinstance(data, list):\n",
    "        if len(data) > 0:\n",
    "            # Map each item in the list through this function\n",
    "            simplified_items = [simplify_json_structure(item) for item in data]\n",
    "\n",
    "            # If all items are the same, keep only one to reduce noise\n",
    "            if all(item == simplified_items[0] for item in simplified_items):\n",
    "                return [simplified_items[0]]\n",
    "            else:\n",
    "                return simplified_items\n",
    "        else:\n",
    "            return [\"array\"]\n",
    "\n",
    "    else:\n",
    "        return infer_placeholder(data)\n",
    "\n",
    "    \n",
    "def save_structure(output_structure, zip_path):\n",
    "    # Serializing json\n",
    "    json_object = json.dumps(output_structure, indent=2)\n",
    "    zip_name = Path(zip_path).stem \n",
    "\n",
    "    # Writing to sample.json\n",
    "    with open(f\"{main_path}Instagram/Input_test/IG_structure_{zip_name}.json\", \"w\") as outfile:\n",
    "        outfile.write(json_object)\n",
    "\n",
    "def structure_from_zip(zip_path):\n",
    "    output_structure = {}\n",
    "\n",
    "    with zipfile.ZipFile(zip_path, 'r') as z:\n",
    "        for file_info in z.infolist():\n",
    "            if file_info.filename.endswith('.json') and not file_info.is_dir():\n",
    "                with z.open(file_info.filename) as f:\n",
    "                    try:\n",
    "                        content = json.load(f)\n",
    "                        placeholder_content = simplify_json_structure(content)\n",
    "                        output_structure[file_info.filename] = placeholder_content\n",
    "                    except json.JSONDecodeError:\n",
    "                        output_structure[file_info.filename] = \"Invalid JSON\"\n",
    "\n",
    "    save_structure(output_structure, zip_path)\n",
    "    return json.dumps(output_structure, indent=2, ensure_ascii=False)"
   ]
  },
  {
   "cell_type": "code",
   "execution_count": 5,
   "metadata": {},
   "outputs": [],
   "source": [
    "main_path = \"/home/rvissche/Nextcloud/What-If/what-if-data-donation/what-if-data-donation/structure_donations/Processed_structure_donations/\"\n",
    "input_directory = Path(f'{main_path}Instagram/Raw')  "
   ]
  },
  {
   "cell_type": "code",
   "execution_count": 6,
   "metadata": {},
   "outputs": [],
   "source": [
    "for file in input_directory.iterdir():  \n",
    "    if file.is_file():  \n",
    "        structure_from_zip(file)"
   ]
  }
 ],
 "metadata": {
  "kernelspec": {
   "display_name": "data-donations",
   "language": "python",
   "name": "python3"
  },
  "language_info": {
   "codemirror_mode": {
    "name": "ipython",
    "version": 3
   },
   "file_extension": ".py",
   "mimetype": "text/x-python",
   "name": "python",
   "nbconvert_exporter": "python",
   "pygments_lexer": "ipython3",
   "version": "3.13.1"
  }
 },
 "nbformat": 4,
 "nbformat_minor": 2
}
