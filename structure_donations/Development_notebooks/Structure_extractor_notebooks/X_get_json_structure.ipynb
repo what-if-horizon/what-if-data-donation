{
 "cells": [
  {
   "cell_type": "code",
   "execution_count": 301,
   "metadata": {},
   "outputs": [],
   "source": [
    "import zipfile\n",
    "import json\n",
    "import os\n",
    "from pathlib import Path \n",
    "import re\n",
    "import io\n",
    "import ast"
   ]
  },
  {
   "cell_type": "code",
   "execution_count": 302,
   "metadata": {},
   "outputs": [],
   "source": [
    "def infer_placeholder(value):\n",
    "    if isinstance(value, str):\n",
    "        return \"string\"\n",
    "    elif isinstance(value, bool):\n",
    "        return \"boolean\"\n",
    "    elif isinstance(value, int) or isinstance(value, float):\n",
    "        return \"number\"\n",
    "    elif isinstance(value, list):\n",
    "        return [\"array\"]\n",
    "    elif isinstance(value, dict):\n",
    "        return {k: infer_placeholder(v) for k, v in value.items()}\n",
    "    elif value is None:\n",
    "        return None\n",
    "    else:\n",
    "        return \"unknown\"\n",
    "\n"
   ]
  },
  {
   "cell_type": "code",
   "execution_count": 303,
   "metadata": {},
   "outputs": [],
   "source": [
    "def simplify_json_structure(data):\n",
    "    # If the data is a dictionary...\n",
    "    if isinstance(data, dict):\n",
    "        # ...create a new dictionary where:\n",
    "        # - each key is kept the same\n",
    "        # - each value is simplified by calling this function recursively\n",
    "        return {k: simplify_json_structure(v) for k, v in data.items()}\n",
    "\n",
    "    # If the data is a list...\n",
    "    \n",
    "    elif isinstance(data, list):\n",
    "        if len(data) > 0:\n",
    "            # Map each item in the list through this function\n",
    "            simplified_items = [simplify_json_structure(item) for item in data]\n",
    "\n",
    "            # If all items are the same, keep only one to reduce noise\n",
    "            if all(item == simplified_items[0] for item in simplified_items):\n",
    "                return [simplified_items[0]]\n",
    "            else:\n",
    "                return simplified_items\n",
    "        else:\n",
    "            return [\"array\"]\n",
    "\n",
    "    else:\n",
    "        return infer_placeholder(data)\n"
   ]
  },
  {
   "cell_type": "code",
   "execution_count": 304,
   "metadata": {},
   "outputs": [],
   "source": [
    "def extract_json_from_js(js_content):\n",
    "    \"\"\"\n",
    "    Extract JSON from JavaScript by removing variable assignment like: window.YT_DATA = {...};\n",
    "    \"\"\"\n",
    "    index = js_content.find('=')\n",
    "    data =  js_content[index + 1:]\n",
    "    \n",
    "    try:\n",
    "        data = json.loads(data)\n",
    "    except:\n",
    "        print('Not loaded:', data)\n",
    "    #print(data)\n",
    "    if isinstance(data, list):\n",
    "        if len(data) == 1 and isinstance(data[0], dict):\n",
    "            return data[0]  # single dictionary in a list\n",
    "        \n",
    "        elif all(isinstance(item, dict) for item in data):\n",
    "            return data  # list of dictionaries\n",
    "        else:\n",
    "            raise ValueError(\"List contains non-dictionary items\")\n",
    "    elif isinstance(data, dict):\n",
    "        return data  # already a dictionary\n",
    "    else:\n",
    "        return None"
   ]
  },
  {
   "cell_type": "code",
   "execution_count": 306,
   "metadata": {},
   "outputs": [],
   "source": [
    "def save_structure(output_structure, zip_path):\n",
    "    # Serializing json\n",
    "    json_object = json.dumps(output_structure, indent=2)\n",
    "    zip_name = Path(zip_path).stem \n",
    "\n",
    "    # Writing to sample.json\n",
    "    with open(f\"{main_path}Input_test/X_structure_{zip_name}.json\", \"w\") as outfile:\n",
    "        outfile.write(json_object)\n",
    "\n",
    "\n"
   ]
  },
  {
   "cell_type": "code",
   "execution_count": 308,
   "metadata": {},
   "outputs": [],
   "source": [
    "\n",
    "def structure_from_zip(zip_path):\n",
    "    output_structure = {}\n",
    "\n",
    "    with zipfile.ZipFile(zip_path, 'r') as z:\n",
    "        for file_info in z.infolist():\n",
    "            # Split the path into parts\n",
    "            path_parts = file_info.filename.split('/')\n",
    "\n",
    "            # Process only files where 'data' is in the second position\n",
    "            if file_info.is_dir() or len(path_parts) < 2 or path_parts[0] != 'data':\n",
    "                continue\n",
    "\n",
    "            with z.open(file_info.filename) as f:\n",
    "                try:\n",
    "                    raw_bytes = f.read()\n",
    "                except Exception:\n",
    "                    output_structure[file_info.filename] = \"Failed to read file\"\n",
    "                    continue\n",
    "\n",
    "                try:\n",
    "                    content_str = raw_bytes.decode(\"utf-8\")\n",
    "                except UnicodeDecodeError:\n",
    "                    try:\n",
    "                        content_str = raw_bytes.decode(\"latin1\")\n",
    "                    except Exception:\n",
    "                        output_structure[file_info.filename] = \"Encoding error\"\n",
    "                        continue\n",
    "\n",
    "                content = None\n",
    "\n",
    "                if file_info.filename.endswith('.js'):\n",
    "                    content = extract_json_from_js(content_str)\n",
    "                else:\n",
    "                    continue  # Skip unknown file types\n",
    "\n",
    "                placeholder_content = simplify_json_structure(content)\n",
    "\n",
    "                if placeholder_content == [\"array\"]:\n",
    "                     output_structure[file_info.filename] = \"No data\"\n",
    "                        \n",
    "                else:\n",
    "                    output_structure[file_info.filename] = placeholder_content\n",
    "\n",
    "    save_structure(output_structure, zip_path)\n",
    "    return json.dumps(output_structure, indent=2, ensure_ascii=False)\n",
    "    "
   ]
  },
  {
   "cell_type": "code",
   "execution_count": 309,
   "metadata": {},
   "outputs": [],
   "source": [
    "main_path = \"/home/rvissche/Nextcloud/What-If/what-if-data-donation/what-if-data-donation/structure_donations/Processed_structure_donations/Twitter/\"\n",
    "input_directory = Path(f'{main_path}/Raw')  "
   ]
  },
  {
   "cell_type": "code",
   "execution_count": 310,
   "metadata": {},
   "outputs": [],
   "source": [
    "for file in input_directory.iterdir():  \n",
    "    if file.is_file():  \n",
    "        structure_from_zip(file)"
   ]
  }
 ],
 "metadata": {
  "kernelspec": {
   "display_name": "data-donations",
   "language": "python",
   "name": "python3"
  },
  "language_info": {
   "codemirror_mode": {
    "name": "ipython",
    "version": 3
   },
   "file_extension": ".py",
   "mimetype": "text/x-python",
   "name": "python",
   "nbconvert_exporter": "python",
   "pygments_lexer": "ipython3",
   "version": "3.13.1"
  }
 },
 "nbformat": 4,
 "nbformat_minor": 2
}
