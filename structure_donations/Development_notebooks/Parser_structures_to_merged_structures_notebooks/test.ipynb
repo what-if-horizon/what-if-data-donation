{
 "cells": [
  {
   "cell_type": "code",
   "execution_count": 29,
   "id": "eec7781c",
   "metadata": {},
   "outputs": [
    {
     "name": "stdout",
     "output_type": "stream",
     "text": [
      "range(0, 2)\n",
      "range(0, 1)\n"
     ]
    }
   ],
   "source": [
    "list = ['hello']\n",
    "\n",
    "print(range(len(list)+1))\n",
    "print(range(len(list)))\n"
   ]
  },
  {
   "cell_type": "code",
   "execution_count": 30,
   "id": "632587e5",
   "metadata": {},
   "outputs": [
    {
     "name": "stdout",
     "output_type": "stream",
     "text": [
      "1\n"
     ]
    }
   ],
   "source": [
    "for i in range(len(list), 0, -1):\n",
    "    print(i)"
   ]
  },
  {
   "cell_type": "code",
   "execution_count": 26,
   "id": "617080dd",
   "metadata": {},
   "outputs": [],
   "source": [
    "import pandas as pd\n",
    "df = pd.read_csv('/home/rvissche/Nextcloud/What-If/what-if-data-donation/structure_donations/Processed_structure_donations/Facebook/Final/FB_Merged_structures.csv')\n",
    "df_an = pd.read_csv('/home/rvissche/Nextcloud/What-If/what-if-data-donation/structure_donations/Annotated_Merged_Structures/FB_merged_structure_annotated.csv')"
   ]
  },
  {
   "cell_type": "code",
   "execution_count": 27,
   "id": "3f7c2081",
   "metadata": {},
   "outputs": [],
   "source": [
    "df_new = df.merge(df_an[['path', 'file_path', 'keepID', 'json_name']], on = ['path', 'file_path', 'json_name'], how = 'left')"
   ]
  },
  {
   "cell_type": "code",
   "execution_count": 28,
   "id": "a6662707",
   "metadata": {},
   "outputs": [],
   "source": [
    "df_new.to_csv('/home/rvissche/Downloads/FB_merged_structure_annotated.csv', index=False)"
   ]
  },
  {
   "cell_type": "markdown",
   "id": "f4fe9ff1",
   "metadata": {},
   "source": []
  }
 ],
 "metadata": {
  "kernelspec": {
   "display_name": "data-donations",
   "language": "python",
   "name": "python3"
  },
  "language_info": {
   "codemirror_mode": {
    "name": "ipython",
    "version": 3
   },
   "file_extension": ".py",
   "mimetype": "text/x-python",
   "name": "python",
   "nbconvert_exporter": "python",
   "pygments_lexer": "ipython3",
   "version": "3.13.1"
  }
 },
 "nbformat": 4,
 "nbformat_minor": 5
}
