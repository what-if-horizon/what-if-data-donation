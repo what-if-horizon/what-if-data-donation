{
 "cells": [
  {
   "cell_type": "code",
   "execution_count": 5,
   "metadata": {},
   "outputs": [],
   "source": [
    "import pandas as pd\n",
    "import json\n",
    "\n",
    "main_path = \"/home/rvissche/Nextcloud/What-If/what-if-data-donation/what-if-data-donation/structure_donations/\"\n",
    "out = f\"{main_path}/Annotated_schema_df\""
   ]
  },
  {
   "cell_type": "markdown",
   "metadata": {},
   "source": [
    "# Twitter"
   ]
  },
  {
   "cell_type": "code",
   "execution_count": null,
   "metadata": {},
   "outputs": [
    {
     "ename": "KeyError",
     "evalue": "'path'",
     "output_type": "error",
     "traceback": [
      "\u001b[31m---------------------------------------------------------------------------\u001b[39m",
      "\u001b[31mKeyError\u001b[39m                                  Traceback (most recent call last)",
      "\u001b[36mFile \u001b[39m\u001b[32m~/miniconda3/envs/data-donations/lib/python3.13/site-packages/pandas/core/indexes/base.py:3805\u001b[39m, in \u001b[36mIndex.get_loc\u001b[39m\u001b[34m(self, key)\u001b[39m\n\u001b[32m   3804\u001b[39m \u001b[38;5;28;01mtry\u001b[39;00m:\n\u001b[32m-> \u001b[39m\u001b[32m3805\u001b[39m     \u001b[38;5;28;01mreturn\u001b[39;00m \u001b[38;5;28;43mself\u001b[39;49m\u001b[43m.\u001b[49m\u001b[43m_engine\u001b[49m\u001b[43m.\u001b[49m\u001b[43mget_loc\u001b[49m\u001b[43m(\u001b[49m\u001b[43mcasted_key\u001b[49m\u001b[43m)\u001b[49m\n\u001b[32m   3806\u001b[39m \u001b[38;5;28;01mexcept\u001b[39;00m \u001b[38;5;167;01mKeyError\u001b[39;00m \u001b[38;5;28;01mas\u001b[39;00m err:\n",
      "\u001b[36mFile \u001b[39m\u001b[32mindex.pyx:167\u001b[39m, in \u001b[36mpandas._libs.index.IndexEngine.get_loc\u001b[39m\u001b[34m()\u001b[39m\n",
      "\u001b[36mFile \u001b[39m\u001b[32mindex.pyx:196\u001b[39m, in \u001b[36mpandas._libs.index.IndexEngine.get_loc\u001b[39m\u001b[34m()\u001b[39m\n",
      "\u001b[36mFile \u001b[39m\u001b[32mpandas/_libs/hashtable_class_helper.pxi:7081\u001b[39m, in \u001b[36mpandas._libs.hashtable.PyObjectHashTable.get_item\u001b[39m\u001b[34m()\u001b[39m\n",
      "\u001b[36mFile \u001b[39m\u001b[32mpandas/_libs/hashtable_class_helper.pxi:7089\u001b[39m, in \u001b[36mpandas._libs.hashtable.PyObjectHashTable.get_item\u001b[39m\u001b[34m()\u001b[39m\n",
      "\u001b[31mKeyError\u001b[39m: 'path'",
      "\nThe above exception was the direct cause of the following exception:\n",
      "\u001b[31mKeyError\u001b[39m                                  Traceback (most recent call last)",
      "\u001b[36mCell\u001b[39m\u001b[36m \u001b[39m\u001b[32mIn[7]\u001b[39m\u001b[32m, line 6\u001b[39m\n\u001b[32m      2\u001b[39m old = pd.read_csv(\u001b[33mf\u001b[39m\u001b[33m\"\u001b[39m\u001b[38;5;132;01m{\u001b[39;00mmain_path\u001b[38;5;132;01m}\u001b[39;00m\u001b[33mAnnotated_schema_df/X_merged_structure_annotated.csv\u001b[39m\u001b[33m\"\u001b[39m)\n\u001b[32m      3\u001b[39m old = old[[\u001b[33m'\u001b[39m\u001b[33mid\u001b[39m\u001b[33m'\u001b[39m, \u001b[33m'\u001b[39m\u001b[33mkeepID\u001b[39m\u001b[33m'\u001b[39m]]\n\u001b[32m----> \u001b[39m\u001b[32m6\u001b[39m old[\u001b[33m'\u001b[39m\u001b[33mpath\u001b[39m\u001b[33m'\u001b[39m] = \u001b[43mold\u001b[49m\u001b[43m[\u001b[49m\u001b[33;43m'\u001b[39;49m\u001b[33;43mpath\u001b[39;49m\u001b[33;43m'\u001b[39;49m\u001b[43m]\u001b[49m.str.replace(\u001b[33m'\u001b[39m\u001b[33m(\u001b[39m\u001b[33m'\u001b[39m, \u001b[33m'\u001b[39m\u001b[33m[\u001b[39m\u001b[33m'\u001b[39m, regex=\u001b[38;5;28;01mFalse\u001b[39;00m).str.replace(\u001b[33m'\u001b[39m\u001b[33m)\u001b[39m\u001b[33m'\u001b[39m, \u001b[33m'\u001b[39m\u001b[33m]\u001b[39m\u001b[33m'\u001b[39m, regex=\u001b[38;5;28;01mFalse\u001b[39;00m)\n\u001b[32m      8\u001b[39m df = pd.merge(old, new, on = \u001b[33m'\u001b[39m\u001b[33mid\u001b[39m\u001b[33m'\u001b[39m, how = \u001b[33m'\u001b[39m\u001b[33mleft\u001b[39m\u001b[33m'\u001b[39m)\n\u001b[32m     11\u001b[39m df.to_csv(\u001b[33mf\u001b[39m\u001b[33m\"\u001b[39m\u001b[38;5;132;01m{\u001b[39;00mout\u001b[38;5;132;01m}\u001b[39;00m\u001b[33m/X_merged_structure_annotated.csv\u001b[39m\u001b[33m\"\u001b[39m, index=\u001b[38;5;28;01mFalse\u001b[39;00m)\n",
      "\u001b[36mFile \u001b[39m\u001b[32m~/miniconda3/envs/data-donations/lib/python3.13/site-packages/pandas/core/frame.py:4102\u001b[39m, in \u001b[36mDataFrame.__getitem__\u001b[39m\u001b[34m(self, key)\u001b[39m\n\u001b[32m   4100\u001b[39m \u001b[38;5;28;01mif\u001b[39;00m \u001b[38;5;28mself\u001b[39m.columns.nlevels > \u001b[32m1\u001b[39m:\n\u001b[32m   4101\u001b[39m     \u001b[38;5;28;01mreturn\u001b[39;00m \u001b[38;5;28mself\u001b[39m._getitem_multilevel(key)\n\u001b[32m-> \u001b[39m\u001b[32m4102\u001b[39m indexer = \u001b[38;5;28;43mself\u001b[39;49m\u001b[43m.\u001b[49m\u001b[43mcolumns\u001b[49m\u001b[43m.\u001b[49m\u001b[43mget_loc\u001b[49m\u001b[43m(\u001b[49m\u001b[43mkey\u001b[49m\u001b[43m)\u001b[49m\n\u001b[32m   4103\u001b[39m \u001b[38;5;28;01mif\u001b[39;00m is_integer(indexer):\n\u001b[32m   4104\u001b[39m     indexer = [indexer]\n",
      "\u001b[36mFile \u001b[39m\u001b[32m~/miniconda3/envs/data-donations/lib/python3.13/site-packages/pandas/core/indexes/base.py:3812\u001b[39m, in \u001b[36mIndex.get_loc\u001b[39m\u001b[34m(self, key)\u001b[39m\n\u001b[32m   3807\u001b[39m     \u001b[38;5;28;01mif\u001b[39;00m \u001b[38;5;28misinstance\u001b[39m(casted_key, \u001b[38;5;28mslice\u001b[39m) \u001b[38;5;129;01mor\u001b[39;00m (\n\u001b[32m   3808\u001b[39m         \u001b[38;5;28misinstance\u001b[39m(casted_key, abc.Iterable)\n\u001b[32m   3809\u001b[39m         \u001b[38;5;129;01mand\u001b[39;00m \u001b[38;5;28many\u001b[39m(\u001b[38;5;28misinstance\u001b[39m(x, \u001b[38;5;28mslice\u001b[39m) \u001b[38;5;28;01mfor\u001b[39;00m x \u001b[38;5;129;01min\u001b[39;00m casted_key)\n\u001b[32m   3810\u001b[39m     ):\n\u001b[32m   3811\u001b[39m         \u001b[38;5;28;01mraise\u001b[39;00m InvalidIndexError(key)\n\u001b[32m-> \u001b[39m\u001b[32m3812\u001b[39m     \u001b[38;5;28;01mraise\u001b[39;00m \u001b[38;5;167;01mKeyError\u001b[39;00m(key) \u001b[38;5;28;01mfrom\u001b[39;00m\u001b[38;5;250m \u001b[39m\u001b[34;01merr\u001b[39;00m\n\u001b[32m   3813\u001b[39m \u001b[38;5;28;01mexcept\u001b[39;00m \u001b[38;5;167;01mTypeError\u001b[39;00m:\n\u001b[32m   3814\u001b[39m     \u001b[38;5;66;03m# If we have a listlike key, _check_indexing_error will raise\u001b[39;00m\n\u001b[32m   3815\u001b[39m     \u001b[38;5;66;03m#  InvalidIndexError. Otherwise we fall through and re-raise\u001b[39;00m\n\u001b[32m   3816\u001b[39m     \u001b[38;5;66;03m#  the TypeError.\u001b[39;00m\n\u001b[32m   3817\u001b[39m     \u001b[38;5;28mself\u001b[39m._check_indexing_error(key)\n",
      "\u001b[31mKeyError\u001b[39m: 'path'"
     ]
    }
   ],
   "source": [
    "new = pd.read_csv(f\"{main_path}Processed_structure_donations/Twitter/Final/X_Merged_structures.csv\")\n",
    "old = pd.read_csv(f\"{main_path}Annotated_schema_df/X_merged_structure_annotated.csv\")\n",
    "old = old[['id', 'keepID']]\n",
    "\n",
    "\n",
    "old['path'] = old['path'].str.replace('(', '[', regex=False).str.replace(')', ']', regex=False)\n",
    "\n",
    "df = pd.merge(old, new, on = 'id', how = 'left')\n",
    "\n",
    "\n",
    "#df.to_csv(f\"{out}/X_merged_structure_annotated.csv\", index=False)"
   ]
  },
  {
   "cell_type": "markdown",
   "metadata": {},
   "source": [
    "# TikTok"
   ]
  },
  {
   "cell_type": "code",
   "execution_count": null,
   "metadata": {},
   "outputs": [],
   "source": [
    "new = pd.read_csv(f\"{main_path}Processed_structure_donations/TikTok/Final/TT_Merged_structures.csv\")\n",
    "old = pd.read_csv(f\"{main_path}Annotated_schema_df/TT_merged_structure_annotated.csv\")\n",
    "\n",
    "\n",
    "df = pd.merge(old, new, on = 'id', how = 'left')\n",
    "\n",
    "\n",
    "\n",
    "#df.to_csv(f\"{out}/TT_merged_structure_annotated.csv\", index=False)"
   ]
  },
  {
   "cell_type": "markdown",
   "metadata": {},
   "source": [
    "# Instagram"
   ]
  },
  {
   "cell_type": "code",
   "execution_count": null,
   "metadata": {},
   "outputs": [],
   "source": [
    "new = pd.read_csv(f\"{main_path}Processed_structure_donations/Instagram/Final/IG_Merged_structures.csv\")\n",
    "old = pd.read_csv(f\"{main_path}Annotated_schema_df/IG_merged_structure_annotated.csv\")\n",
    "\n",
    "\n",
    "df = pd.merge(old, new, on = 'id', how = 'left')\n",
    "\n",
    "\n",
    "\n",
    "\n",
    "#df.to_csv(f\"{out}/IG_merged_structure_annotated.csv\", index=False)"
   ]
  },
  {
   "cell_type": "markdown",
   "metadata": {},
   "source": [
    "# Facebook\n"
   ]
  },
  {
   "cell_type": "code",
   "execution_count": null,
   "metadata": {},
   "outputs": [],
   "source": [
    "new = pd.read_csv(f\"{main_path}Processed_structure_donations/Facebook/Final/FB_Merged_structures.csv\")\n",
    "old = pd.read_csv(f\"{main_path}Annotated_schema_df/FB_merged_structure_annotated.csv\")\n",
    "\n",
    "\n",
    "df = pd.merge(old, new, on = 'id', how = 'left')\n",
    "\n",
    "\n",
    "\n",
    "\n",
    "#df.to_csv(f\"{out}/FB_merged_structure_annotated.csv\", index=False)"
   ]
  },
  {
   "cell_type": "markdown",
   "metadata": {},
   "source": [
    "# Youtube"
   ]
  },
  {
   "cell_type": "code",
   "execution_count": null,
   "metadata": {},
   "outputs": [],
   "source": [
    "new = pd.read_csv(f\"{main_path}Processed_structure_donations/Youtube/Final/YT_Merged_structures.csv\")\n",
    "old = pd.read_csv(f\"{main_path}Annotated_schema_df/YT_merged_structure_annotated.csv\")\n",
    "\n",
    "\n",
    "df = pd.merge(old, new, on = 'id', how = 'left')\n",
    "\n",
    "\n",
    "\n",
    "\n",
    "#df.to_csv(f\"{out}/YT_merged_structure_annotated.csv\", index=False)"
   ]
  },
  {
   "cell_type": "code",
   "execution_count": 2,
   "metadata": {},
   "outputs": [],
   "source": [
    "new2 = new\n",
    "\n",
    "new['id2'] = new['id']\n",
    "\n",
    "\n",
    "\n",
    "new = new[['id', 'id2']]\n",
    "\n",
    "old = old[['id', 'keepID']]\n",
    "\n",
    "\n",
    "diff_df = pd.merge(old, new, on = 'id', how = 'left')\n",
    "diff_2 = pd.merge(old, new, on = 'id', how = 'left')\n",
    "\n",
    "mask = pd.notna(diff_df['keepID'])\n",
    "diff_df = diff_df[mask]"
   ]
  },
  {
   "cell_type": "code",
   "execution_count": 3,
   "metadata": {},
   "outputs": [
    {
     "name": "stdout",
     "output_type": "stream",
     "text": [
      "                              id                       keepID  \\\n",
      "4        manifest:generationDate      manifest:generationDate   \n",
      "274   account-label:accountLabel   account-label:accountLabel   \n",
      "275           account-suspension           account-suspension   \n",
      "280            account:accountId            account:accountId   \n",
      "281            account:createdAt            account:createdAt   \n",
      "..                           ...                          ...   \n",
      "573         lists-subscribed:url         lists-subscribed:url   \n",
      "574  personalization:advertisers  personalization:advertisers   \n",
      "575  personalization:advertisers  personalization:advertisers   \n",
      "576   saved-search:savedSearchId   saved-search:savedSearchId   \n",
      "577           saved-search:query           saved-search:query   \n",
      "\n",
      "                             id2  \n",
      "4        manifest:generationDate  \n",
      "274                          NaN  \n",
      "275           account-suspension  \n",
      "280            account:accountId  \n",
      "281            account:createdAt  \n",
      "..                           ...  \n",
      "573         lists-subscribed:url  \n",
      "574  personalization:advertisers  \n",
      "575  personalization:advertisers  \n",
      "576   saved-search:savedSearchId  \n",
      "577           saved-search:query  \n",
      "\n",
      "[120 rows x 3 columns]\n"
     ]
    }
   ],
   "source": [
    "print(diff_df)"
   ]
  },
  {
   "cell_type": "code",
   "execution_count": 4,
   "metadata": {},
   "outputs": [
    {
     "name": "stdout",
     "output_type": "stream",
     "text": [
      "4\n",
      "{'verified-organization:verifiedOrganization', 'account-label:accountLabel', 'periscope-ban-information:periscopeBanInformation', 'expanded-profile:expandedProfile'}\n",
      "{'personalization:catalogAudienceAdvertisers', 'direct-messages-group:editHistory', 'ads-revenue-sharing:payoutHistory', 'tweets:symbols', 'personalization:locationHistory', 'direct-messages-group:mediaUrls', 'direct-messages-group:urls', 'tweets:hashtags', 'key-registry:deRegisteredDeviceMetadataList', 'direct-messages-group:reactions', 'personalization:partnerInterests', 'tweets:user_mentions', 'personalization:doNotReachAdvertisers', 'direct-messages:editHistory', 'direct-messages:urls', 'direct-messages:reactions', 'tweets:urls'}\n",
      "17\n"
     ]
    }
   ],
   "source": [
    "newList = set(new['id'].dropna())\n",
    "oldList = set(old['id'].dropna())\n",
    "\n",
    "diff = oldList - newList\n",
    "diff2 = newList - oldList\n",
    "print(len(diff))\n",
    "print(diff)\n",
    "\n",
    "print(diff2)\n",
    "print(len(diff2))\n"
   ]
  }
 ],
 "metadata": {
  "kernelspec": {
   "display_name": "data-donations",
   "language": "python",
   "name": "python3"
  },
  "language_info": {
   "codemirror_mode": {
    "name": "ipython",
    "version": 3
   },
   "file_extension": ".py",
   "mimetype": "text/x-python",
   "name": "python",
   "nbconvert_exporter": "python",
   "pygments_lexer": "ipython3",
   "version": "3.13.1"
  }
 },
 "nbformat": 4,
 "nbformat_minor": 2
}
