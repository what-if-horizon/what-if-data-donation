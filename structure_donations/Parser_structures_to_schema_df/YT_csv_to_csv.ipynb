{
 "cells": [
  {
   "cell_type": "markdown",
   "metadata": {},
   "source": [
    "# Parsing Instagram Data Structures into a Schema_df"
   ]
  },
  {
   "cell_type": "markdown",
   "metadata": {},
   "source": [
    " The purpose of his jupyter notebook is to parse the collected data structures in earlier iterations of utilising the data donation tool into a schema_df which can be used to inform future iterations of the data donation tool.ote that there are two notebooks to parse the Youtube data structures in the repository as the Youtube data takeout contains both CSV and JSON files. "
   ]
  },
  {
   "cell_type": "code",
   "execution_count": 1,
   "metadata": {},
   "outputs": [],
   "source": [
    "# importing libraries \n",
    "import pandas as pd \n",
    "import glob \n",
    "import os \n",
    "  "
   ]
  },
  {
   "cell_type": "code",
   "execution_count": 2,
   "metadata": {},
   "outputs": [],
   "source": [
    "# Specify the main path \n",
    "main_path = \"/home/rvissche/Nextcloud/What-If/what-if-data-donation/what-if-data-donation/structure_donations/Processed_structure_donations/Youtube/\"\n",
    "\n",
    "# Create a pattern to find all csv files in the folder\n",
    "pattern = os.path.join(main_path, \"Column_names_input\", \"*.csv\")\n",
    "\n",
    "# Combine all csv files in a list\n",
    "joined_list = glob.glob(pattern)\n",
    "\n",
    "  \n",
    "# Join the files\n",
    "df = pd.concat(map(pd.read_csv, joined_list), ignore_index=True) \n",
    "\n",
    "#Drop duplicated rows\n",
    "df = df.drop_duplicates() \n",
    "\n",
    "\n"
   ]
  },
  {
   "cell_type": "code",
   "execution_count": 3,
   "metadata": {},
   "outputs": [],
   "source": [
    "df['name'] = df['File_name'].str.replace(\".csv\", \"\")\n",
    "df['id'] =   df.apply(lambda x: f\"{x['name']}:{x['Column_names']}\", axis = 1)\n",
    "df['id'] = df['id'].str.replace(\" \", \"_\")\n",
    "\n",
    "df = df.drop('name', axis = 1)"
   ]
  },
  {
   "cell_type": "code",
   "execution_count": 4,
   "metadata": {},
   "outputs": [],
   "source": [
    "# Save the DF\n",
    "df.to_csv(f\"{main_path}Column_names_final/Merged_Column_Names_YT.csv\", index=False)"
   ]
  }
 ],
 "metadata": {
  "kernelspec": {
   "display_name": "data-donations",
   "language": "python",
   "name": "python3"
  },
  "language_info": {
   "codemirror_mode": {
    "name": "ipython",
    "version": 3
   },
   "file_extension": ".py",
   "mimetype": "text/x-python",
   "name": "python",
   "nbconvert_exporter": "python",
   "pygments_lexer": "ipython3",
   "version": "3.13.1"
  }
 },
 "nbformat": 4,
 "nbformat_minor": 2
}
